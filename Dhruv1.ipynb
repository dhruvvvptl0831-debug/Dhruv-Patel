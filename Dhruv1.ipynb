{
 "cells": [
  {
   "cell_type": "code",
   "execution_count": 2,
   "id": "3842042d-674e-49fe-b4a0-285282c6af76",
   "metadata": {},
   "outputs": [
    {
     "name": "stdout",
     "output_type": "stream",
     "text": [
      "Welcome to the Interactive Personal Data Collector!\n",
      "\n"
     ]
    },
    {
     "name": "stdin",
     "output_type": "stream",
     "text": [
      "Please enter your name:  Patel Dhruv\n",
      "Please enter your age:  19\n",
      "Please enter your height in meters:  5.6\n",
      "Please enter your favourite number:  8\n"
     ]
    },
    {
     "name": "stdout",
     "output_type": "stream",
     "text": [
      "\n",
      "Thank you! Here is the information we collected:\n",
      "\n",
      "Name: Patel Dhruv (Type: <class 'str'>, Memory Address: 2571328965616)\n",
      "Age: 19 (Type: <class 'int'>, Memory Address: 140704703280616)\n",
      "Height: 5.6 (Type: <class 'float'>, Memory Address: 2571328569680)\n",
      "Favourite Number: 8 (Type: <class 'int'>, Memory Address: 140704703280264)\n",
      "\n",
      "Your birth year is approximately: 2004 (based on your age of 19)\n",
      "\n",
      "Thank you for using the Personal Data Collector. Goodbye!\n"
     ]
    }
   ],
   "source": [
    "print(\"Welcome to the Interactive Personal Data Collector!\\n\")\n",
    "\n",
    "# Collect user input\n",
    "name = input(\"Please enter your name: \")\n",
    "age = int(input(\"Please enter your age: \"))\n",
    "height = float(input(\"Please enter your height in meters: \"))\n",
    "favourite_number = int(input(\"Please enter your favourite number: \"))\n",
    "\n",
    "print(\"\\nThank you! Here is the information we collected:\\n\")\n",
    "\n",
    "# Display collected data with type and memory address\n",
    "print(f\"Name: {name} (Type: {type(name)}, Memory Address: {id(name)})\")\n",
    "print(f\"Age: {age} (Type: {type(age)}, Memory Address: {id(age)})\")\n",
    "print(f\"Height: {height} (Type: {type(height)}, Memory Address: {id(height)})\")\n",
    "print(f\"Favourite Number: {favourite_number} (Type: {type(favourite_number)}, Memory Address: {id(favourite_number)})\")\n",
    "\n",
    "# Calculate approximate birth year\n",
    "current_year = 2023  # você pode usar datetime para pegar o ano atual automaticamente\n",
    "birth_year = current_year - age\n",
    "print(f\"\\nYour birth year is approximately: {birth_year} (based on your age of {age})\")\n",
    "\n",
    "print(\"\\nThank you for using the Personal Data Collector. Goodbye!\")"
   ]
  },
  {
   "cell_type": "code",
   "execution_count": null,
   "id": "592aefe9-cfd0-48c3-938d-47d4e5000229",
   "metadata": {},
   "outputs": [],
   "source": []
  },
  {
   "cell_type": "code",
   "execution_count": null,
   "id": "9febd767-af5b-4235-99a1-415e4dca5c84",
   "metadata": {},
   "outputs": [],
   "source": []
  },
  {
   "cell_type": "code",
   "execution_count": null,
   "id": "d81b0099-bd1c-4b54-ae39-e7af64d857c0",
   "metadata": {},
   "outputs": [],
   "source": []
  },
  {
   "cell_type": "code",
   "execution_count": null,
   "id": "c8a5a9ec-8bd8-4f5f-9033-0e877261b733",
   "metadata": {},
   "outputs": [],
   "source": []
  },
  {
   "cell_type": "code",
   "execution_count": null,
   "id": "734c0f40-1f20-45b0-9178-957eed4f941f",
   "metadata": {},
   "outputs": [],
   "source": []
  },
  {
   "cell_type": "code",
   "execution_count": null,
   "id": "05e53ded-3969-4e1f-86b8-025703392f6f",
   "metadata": {},
   "outputs": [],
   "source": []
  },
  {
   "cell_type": "code",
   "execution_count": null,
   "id": "7696bf0d-fafe-4966-b6ee-8548780713cc",
   "metadata": {},
   "outputs": [],
   "source": []
  },
  {
   "cell_type": "code",
   "execution_count": null,
   "id": "30002ec0-5357-42c7-a175-99a982bbddbf",
   "metadata": {},
   "outputs": [],
   "source": []
  },
  {
   "cell_type": "code",
   "execution_count": null,
   "id": "43f99182-7045-4280-8da4-27fc4a366f26",
   "metadata": {},
   "outputs": [],
   "source": []
  },
  {
   "cell_type": "code",
   "execution_count": null,
   "id": "12f89171-f8f5-47e9-94df-805065c320ff",
   "metadata": {},
   "outputs": [],
   "source": []
  },
  {
   "cell_type": "code",
   "execution_count": null,
   "id": "8a7073bf-6903-4553-a4f0-9da766335c11",
   "metadata": {},
   "outputs": [],
   "source": []
  },
  {
   "cell_type": "code",
   "execution_count": null,
   "id": "2f56aa28-c333-4455-8870-7c97277fef8f",
   "metadata": {},
   "outputs": [],
   "source": []
  }
 ],
 "metadata": {
  "kernelspec": {
   "display_name": "Python 3 (ipykernel)",
   "language": "python",
   "name": "python3"
  },
  "language_info": {
   "codemirror_mode": {
    "name": "ipython",
    "version": 3
   },
   "file_extension": ".py",
   "mimetype": "text/x-python",
   "name": "python",
   "nbconvert_exporter": "python",
   "pygments_lexer": "ipython3",
   "version": "3.13.7"
  }
 },
 "nbformat": 4,
 "nbformat_minor": 5
}
