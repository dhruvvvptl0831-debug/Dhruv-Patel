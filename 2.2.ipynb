{
 "cells": [
  {
   "cell_type": "code",
   "execution_count": 1,
   "id": "b328d461-69c5-402a-9943-dad890ac60ee",
   "metadata": {},
   "outputs": [],
   "source": [
    "#code 1\n"
   ]
  },
  {
   "cell_type": "code",
   "execution_count": 2,
   "id": "53390343-ef83-422d-819a-e0199b7053b7",
   "metadata": {},
   "outputs": [
    {
     "name": "stdin",
     "output_type": "stream",
     "text": [
      "Enter 3 numbers:  11 21 22\n"
     ]
    },
    {
     "name": "stdout",
     "output_type": "stream",
     "text": [
      "Max: 22\n"
     ]
    }
   ],
   "source": [
    "a, b, c = map(int, input(\"Enter 3 numbers: \").split())\n",
    "\n",
    "if a > b:\n",
    "    if a > c:\n",
    "        print(\"Max:\", a)\n",
    "    else:\n",
    "        print(\"Max:\", c)\n",
    "else:\n",
    "    if b > c:\n",
    "        print(\"Max:\", b)\n",
    "    else:\n",
    "        print(\"Max:\", c)\n"
   ]
  },
  {
   "cell_type": "code",
   "execution_count": 3,
   "id": "3844cda8-5bf0-4e9b-adbc-696aafceabfd",
   "metadata": {},
   "outputs": [],
   "source": [
    "#code 2"
   ]
  },
  {
   "cell_type": "code",
   "execution_count": 4,
   "id": "0825ddca-45eb-4608-8c28-3859471049b7",
   "metadata": {},
   "outputs": [
    {
     "name": "stdin",
     "output_type": "stream",
     "text": [
      "Enter 3 numbers:  22 34 36\n"
     ]
    },
    {
     "name": "stdout",
     "output_type": "stream",
     "text": [
      "Min: 22\n"
     ]
    }
   ],
   "source": [
    "a, b, c = map(int, input(\"Enter 3 numbers: \").split())\n",
    "\n",
    "if a < b:\n",
    "    if a < c:\n",
    "        print(\"Min:\", a)\n",
    "    else:\n",
    "        print(\"Min:\", c)\n",
    "else:\n",
    "    if b < c:\n",
    "        print(\"Min:\", b)\n",
    "    else:\n",
    "        print(\"Min:\", c)\n"
   ]
  },
  {
   "cell_type": "code",
   "execution_count": 5,
   "id": "9f4ed4e7-5e13-4e1a-b25d-cccd1b2ec80f",
   "metadata": {},
   "outputs": [],
   "source": [
    "#code 3"
   ]
  },
  {
   "cell_type": "code",
   "execution_count": 6,
   "id": "9798e0c7-d426-4211-9137-a216e3dd153f",
   "metadata": {},
   "outputs": [
    {
     "name": "stdin",
     "output_type": "stream",
     "text": [
      "Enter 4 numbers:  11 22 33 44\n"
     ]
    },
    {
     "name": "stdout",
     "output_type": "stream",
     "text": [
      "Max: 44\n"
     ]
    }
   ],
   "source": [
    "a, b, c, d = map(int, input(\"Enter 4 numbers: \").split())\n",
    "\n",
    "if a > b:\n",
    "    if a > c:\n",
    "        if a > d:\n",
    "            print(\"Max:\", a)\n",
    "        else:\n",
    "            print(\"Max:\", d)\n",
    "    else:\n",
    "        if c > d:\n",
    "            print(\"Max:\", c)\n",
    "        else:\n",
    "            print(\"Max:\", d)\n",
    "else:\n",
    "    if b > c:\n",
    "        if b > d:\n",
    "            print(\"Max:\", b)\n",
    "        else:\n",
    "            print(\"Max:\", d)\n",
    "    else:\n",
    "        if c > d:\n",
    "            print(\"Max:\", c)\n",
    "        else:\n",
    "            print(\"Max:\", d)\n"
   ]
  },
  {
   "cell_type": "code",
   "execution_count": 7,
   "id": "d3652092-8e0a-4a03-90c7-1dc78fc6f7ca",
   "metadata": {},
   "outputs": [],
   "source": [
    "#code 4"
   ]
  },
  {
   "cell_type": "code",
   "execution_count": 8,
   "id": "b0f956d2-2b03-4e24-8e9c-553826e8194c",
   "metadata": {},
   "outputs": [
    {
     "name": "stdin",
     "output_type": "stream",
     "text": [
      "Enter two numbers:  33 66\n",
      "Enter operator (+,-,*,/):  *\n"
     ]
    },
    {
     "name": "stdout",
     "output_type": "stream",
     "text": [
      "Result: 2178\n"
     ]
    }
   ],
   "source": [
    "a, b = map(int, input(\"Enter two numbers: \").split())\n",
    "op = input(\"Enter operator (+,-,*,/): \")\n",
    "\n",
    "calc = {\n",
    "    \"+\": a + b,\n",
    "    \"-\": a - b,\n",
    "    \"*\": a * b,\n",
    "    \"/\": a / b if b != 0 else \"Error (divide by 0)\"\n",
    "}\n",
    "\n",
    "print(\"Result:\", calc.get(op, \"Invalid operator\"))\n"
   ]
  },
  {
   "cell_type": "code",
   "execution_count": 9,
   "id": "e0418561-6739-44c2-bf97-85953f933169",
   "metadata": {},
   "outputs": [],
   "source": [
    "#code 5"
   ]
  },
  {
   "cell_type": "code",
   "execution_count": 10,
   "id": "1e6aa11b-6449-4e22-8841-081d133b79bc",
   "metadata": {},
   "outputs": [
    {
     "name": "stdin",
     "output_type": "stream",
     "text": [
      "1.Sandwich  2.Pizza  3.Burger :  1\n"
     ]
    },
    {
     "name": "stdout",
     "output_type": "stream",
     "text": [
      "Sandwich Selected\n"
     ]
    },
    {
     "name": "stdin",
     "output_type": "stream",
     "text": [
      "1.Veg  2.Cheese  3.Grilled :  3\n"
     ]
    },
    {
     "name": "stdout",
     "output_type": "stream",
     "text": [
      "Grilled Sandwich Ordered\n"
     ]
    }
   ],
   "source": [
    "choice = int(input(\"1.Sandwich  2.Pizza  3.Burger : \"))\n",
    "\n",
    "match choice:\n",
    "    case 1:\n",
    "        print(\"Sandwich Selected\")\n",
    "        sub = int(input(\"1.Veg  2.Cheese  3.Grilled : \"))\n",
    "        match sub:\n",
    "            case 1: print(\"Veg Sandwich Ordered\")\n",
    "            case 2: print(\"Cheese Sandwich Ordered\")\n",
    "            case 3: print(\"Grilled Sandwich Ordered\")\n",
    "    case 2:\n",
    "        print(\"Pizza Selected\")\n",
    "        sub = int(input(\"1.Thin Crust  2.Cheese Burst  3.Fresh Dough : \"))\n",
    "        match sub:\n",
    "            case 1: print(\"Thin Crust Pizza Ordered\")\n",
    "            case 2: print(\"Cheese Burst Pizza Ordered\")\n",
    "            case 3: print(\"Fresh Dough Pizza Ordered\")\n",
    "    case 3:\n",
    "        print(\"Burger Selected\")\n",
    "        sub = int(input(\"1.Veg  2.Cheese  3.Double Patty : \"))\n",
    "        match sub:\n",
    "            case 1: print(\"Veg Burger Ordered\")\n",
    "            case 2: print(\"Cheese Burger Ordered\")\n",
    "            case 3: print(\"Double Patty Burger Ordered\")\n",
    "    case _: print(\"Invalid choice\")\n"
   ]
  },
  {
   "cell_type": "code",
   "execution_count": 11,
   "id": "de7d4ed2-433d-4f5c-a2a2-984ca70cc1a9",
   "metadata": {},
   "outputs": [],
   "source": [
    "#code 6"
   ]
  },
  {
   "cell_type": "code",
   "execution_count": 12,
   "id": "7239c7d8-e35a-4838-946c-6beabbc0400a",
   "metadata": {},
   "outputs": [
    {
     "name": "stdin",
     "output_type": "stream",
     "text": [
      "1.English  2.Hindi  3.Gujarati :  2\n"
     ]
    },
    {
     "name": "stdout",
     "output_type": "stream",
     "text": [
      "Hindi Selected\n"
     ]
    },
    {
     "name": "stdin",
     "output_type": "stream",
     "text": [
      "1.Balance  2.Recharge  3.Customer Care :  1\n"
     ]
    },
    {
     "name": "stdout",
     "output_type": "stream",
     "text": [
      "Balance Hindi me\n"
     ]
    }
   ],
   "source": [
    "choice = int(input(\"1.English  2.Hindi  3.Gujarati : \"))\n",
    "\n",
    "match choice:\n",
    "    case 1:\n",
    "        print(\"English Selected\")\n",
    "        sub = int(input(\"1.Balance  2.Recharge  3.Customer Care : \"))\n",
    "        match sub:\n",
    "            case 1: print(\"Balance in English\")\n",
    "            case 2: print(\"Recharge in English\")\n",
    "            case 3: print(\"Customer Care in English\")\n",
    "    case 2:\n",
    "        print(\"Hindi Selected\")\n",
    "        sub = int(input(\"1.Balance  2.Recharge  3.Customer Care : \"))\n",
    "        match sub:\n",
    "            case 1: print(\"Balance Hindi me\")\n",
    "            case 2: print(\"Recharge Hindi me\")\n",
    "            case 3: print(\"Customer Care Hindi me\")\n",
    "    case 3:\n",
    "        print(\"Gujarati Selected\")\n",
    "        sub = int(input(\"1.Balance  2.Recharge  3.Customer Care : \"))\n",
    "        match sub:\n",
    "            case 1: print(\"Balance Gujarati ma\")\n",
    "            case 2: print(\"Recharge Gujarati ma\")\n",
    "            case 3: print(\"Customer Care Gujarati ma\")\n",
    "    case _: print(\"Invalid choice\")\n"
   ]
  },
  {
   "cell_type": "code",
   "execution_count": null,
   "id": "1b7461c9-06cc-4200-9a35-68032f3d4c31",
   "metadata": {},
   "outputs": [],
   "source": []
  }
 ],
 "metadata": {
  "kernelspec": {
   "display_name": "Python [conda env:base] *",
   "language": "python",
   "name": "conda-base-py"
  },
  "language_info": {
   "codemirror_mode": {
    "name": "ipython",
    "version": 3
   },
   "file_extension": ".py",
   "mimetype": "text/x-python",
   "name": "python",
   "nbconvert_exporter": "python",
   "pygments_lexer": "ipython3",
   "version": "3.13.5"
  }
 },
 "nbformat": 4,
 "nbformat_minor": 5
}
