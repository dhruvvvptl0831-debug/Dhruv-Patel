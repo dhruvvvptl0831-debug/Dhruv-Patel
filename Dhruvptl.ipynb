{
 "cells": [
  {
   "cell_type": "code",
   "execution_count": 2,
   "id": "c3ada60b-1d3d-4075-9c39-e61bd8ed09bc",
   "metadata": {},
   "outputs": [
    {
     "name": "stdout",
     "output_type": "stream",
     "text": [
      "Welcome to the Interactive Personal Data Collector!\n",
      "\n"
     ]
    },
    {
     "name": "stdin",
     "output_type": "stream",
     "text": [
      "Please enter your name:  Dhruv Patel\n",
      "Please enter your age:  19\n",
      "Please enter your height in meters:  5.7\n",
      "Please enter your favourite number:  8\n"
     ]
    },
    {
     "name": "stdout",
     "output_type": "stream",
     "text": [
      "\n",
      "Thank you! Here is the information we collected:\n",
      "\n",
      "Name: Dhruv Patel (Type: <class 'str'>, Memory Address: 2176624168176)\n",
      "Age: 19 (Type: <class 'int'>, Memory Address: 140737228338664)\n",
      "Height: 5.7 (Type: <class 'float'>, Memory Address: 2176598636176)\n",
      "Favourite Number: 8 (Type: <class 'int'>, Memory Address: 140737228338312)\n",
      "\n",
      "Your birth year is approximately: 2006 (based on your age of 19)\n",
      "\n",
      "Thank you for using the Personal Data Collector. Goodbye!\n"
     ]
    }
   ],
   "source": [
    "print(\"Welcome to the Interactive Personal Data Collector!\\n\")\n",
    "\n",
    "name = input(\"Please enter your name: \")\n",
    "age = int(input(\"Please enter your age: \"))\n",
    "height = float(input(\"Please enter your height in meters: \"))\n",
    "favourite_number = int(input(\"Please enter your favourite number: \"))\n",
    "\n",
    "print(\"\\nThank you! Here is the information we collected:\\n\")\n",
    "\n",
    "print(f\"Name: {name} (Type: {type(name)}, Memory Address: {id(name)})\")\n",
    "print(f\"Age: {age} (Type: {type(age)}, Memory Address: {id(age)})\")\n",
    "print(f\"Height: {height} (Type: {type(height)}, Memory Address: {id(height)})\")\n",
    "print(f\"Favourite Number: {favourite_number} (Type: {type(favourite_number)}, Memory Address: {id(favourite_number)})\")\n",
    "\n",
    "current_year = 2025\n",
    "birth_year = current_year - age\n",
    "print(f\"\\nYour birth year is approximately: {birth_year} (based on your age of {age})\")\n",
    "\n",
    "print(\"\\nThank you for using the Personal Data Collector. Goodbye!\")"
   ]
  },
  {
   "cell_type": "code",
   "execution_count": null,
   "id": "1e02dd5d-e5de-49d3-8fec-60e365e29f4e",
   "metadata": {},
   "outputs": [],
   "source": []
  },
  {
   "cell_type": "code",
   "execution_count": null,
   "id": "84777357-32c3-44df-985e-5a130d46def2",
   "metadata": {},
   "outputs": [],
   "source": []
  },
  {
   "cell_type": "code",
   "execution_count": null,
   "id": "73a6ba40-6a73-4790-9166-7e44c21a424a",
   "metadata": {},
   "outputs": [],
   "source": []
  },
  {
   "cell_type": "code",
   "execution_count": null,
   "id": "691d1f3b-4b77-4b02-a6eb-d72a65b22b01",
   "metadata": {},
   "outputs": [],
   "source": []
  },
  {
   "cell_type": "code",
   "execution_count": null,
   "id": "61b7a502-7d5b-406b-91c3-d05d7a4e2c1b",
   "metadata": {},
   "outputs": [],
   "source": []
  },
  {
   "cell_type": "code",
   "execution_count": null,
   "id": "2f0c78a4-d5e1-422a-8305-c456d40695d4",
   "metadata": {},
   "outputs": [],
   "source": []
  },
  {
   "cell_type": "code",
   "execution_count": null,
   "id": "f205f6d3-ff3c-4bde-8032-6d45304eb5fb",
   "metadata": {},
   "outputs": [],
   "source": []
  },
  {
   "cell_type": "code",
   "execution_count": null,
   "id": "c8fc1538-a53a-44b1-97f1-16a086ff6be2",
   "metadata": {},
   "outputs": [],
   "source": []
  },
  {
   "cell_type": "code",
   "execution_count": null,
   "id": "455f33fd-7327-46d7-8124-1eb558f506b2",
   "metadata": {},
   "outputs": [],
   "source": []
  },
  {
   "cell_type": "code",
   "execution_count": null,
   "id": "00308326-3a9f-4c38-85e8-8e8cd00e85a9",
   "metadata": {},
   "outputs": [],
   "source": []
  },
  {
   "cell_type": "code",
   "execution_count": null,
   "id": "8757fec5-ee64-40c1-ac0d-51f95c5b964d",
   "metadata": {},
   "outputs": [],
   "source": []
  },
  {
   "cell_type": "code",
   "execution_count": null,
   "id": "8de6245c-091f-4cf3-8d8d-2aa7344465f8",
   "metadata": {},
   "outputs": [],
   "source": []
  },
  {
   "cell_type": "code",
   "execution_count": null,
   "id": "9f85bc77-7fee-43d8-a348-453a064cd748",
   "metadata": {},
   "outputs": [],
   "source": []
  },
  {
   "cell_type": "code",
   "execution_count": null,
   "id": "dcf4347d-7ed0-4ab3-b6ed-ceeecd64c7c9",
   "metadata": {},
   "outputs": [],
   "source": []
  },
  {
   "cell_type": "code",
   "execution_count": null,
   "id": "3a9782df-2c5d-4a51-87a6-4516eecd3025",
   "metadata": {},
   "outputs": [],
   "source": []
  },
  {
   "cell_type": "code",
   "execution_count": null,
   "id": "3f872894-c8f0-4026-9d46-037b573d3d49",
   "metadata": {},
   "outputs": [],
   "source": []
  },
  {
   "cell_type": "code",
   "execution_count": null,
   "id": "26f985e9-e977-4c79-8dae-b5e5ad11177d",
   "metadata": {},
   "outputs": [],
   "source": []
  },
  {
   "cell_type": "code",
   "execution_count": null,
   "id": "0f7fcb4d-c885-467e-aa9e-57a2e84626f4",
   "metadata": {},
   "outputs": [],
   "source": []
  },
  {
   "cell_type": "code",
   "execution_count": null,
   "id": "af5265fa-1346-4f0a-89d7-de0380977bad",
   "metadata": {},
   "outputs": [],
   "source": []
  },
  {
   "cell_type": "code",
   "execution_count": null,
   "id": "23541539-5786-467a-9255-c2553df5263f",
   "metadata": {},
   "outputs": [],
   "source": []
  }
 ],
 "metadata": {
  "kernelspec": {
   "display_name": "Python 3 (ipykernel)",
   "language": "python",
   "name": "python3"
  },
  "language_info": {
   "codemirror_mode": {
    "name": "ipython",
    "version": 3
   },
   "file_extension": ".py",
   "mimetype": "text/x-python",
   "name": "python",
   "nbconvert_exporter": "python",
   "pygments_lexer": "ipython3",
   "version": "3.13.7"
  }
 },
 "nbformat": 4,
 "nbformat_minor": 5
}
