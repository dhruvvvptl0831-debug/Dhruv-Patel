{
 "cells": [
  {
   "cell_type": "code",
   "execution_count": 12,
   "id": "0813635b-78df-4347-a623-8a5ef7cd5a75",
   "metadata": {},
   "outputs": [
    {
     "name": "stdout",
     "output_type": "stream",
     "text": [
      "\n",
      "Menu:\n",
      "1. Generate Pattern\n",
      "2. Number Analyzer\n",
      "3. Exit\n"
     ]
    },
    {
     "name": "stdin",
     "output_type": "stream",
     "text": [
      "Enter choice:  1\n",
      "Enter number of rows:  4\n"
     ]
    },
    {
     "name": "stdout",
     "output_type": "stream",
     "text": [
      "* \n",
      "* * \n",
      "* * * \n",
      "* * * * \n",
      "\n",
      "Menu:\n",
      "1. Generate Pattern\n",
      "2. Number Analyzer\n",
      "3. Exit\n"
     ]
    },
    {
     "name": "stdin",
     "output_type": "stream",
     "text": [
      "Enter choice:  2\n",
      "Enter start:  5\n",
      "Enter end:  50\n"
     ]
    },
    {
     "name": "stdout",
     "output_type": "stream",
     "text": [
      "5 is Odd\n",
      "6 is Even\n",
      "7 is Odd\n",
      "8 is Even\n",
      "9 is Odd\n",
      "10 is Even\n",
      "11 is Odd\n",
      "12 is Even\n",
      "14 is Even\n",
      "15 is Odd\n",
      "16 is Even\n",
      "17 is Odd\n",
      "18 is Even\n",
      "19 is Odd\n",
      "20 is Even\n",
      "21 is Odd\n",
      "22 is Even\n",
      "23 is Odd\n",
      "24 is Even\n",
      "25 is Odd\n",
      "26 is Even\n",
      "27 is Odd\n",
      "28 is Even\n",
      "29 is Odd\n",
      "30 is Even\n",
      "31 is Odd\n",
      "32 is Even\n",
      "33 is Odd\n",
      "34 is Even\n",
      "35 is Odd\n",
      "36 is Even\n",
      "37 is Odd\n",
      "38 is Even\n",
      "39 is Odd\n",
      "40 is Even\n",
      "41 is Odd\n",
      "42 is Even\n",
      "43 is Odd\n",
      "44 is Even\n",
      "45 is Odd\n",
      "46 is Even\n",
      "47 is Odd\n",
      "48 is Even\n",
      "49 is Odd\n",
      "50 is Even\n",
      "Sum is: 1252\n",
      "\n",
      "Menu:\n",
      "1. Generate Pattern\n",
      "2. Number Analyzer\n",
      "3. Exit\n"
     ]
    },
    {
     "name": "stdin",
     "output_type": "stream",
     "text": [
      "Enter choice:  3\n"
     ]
    },
    {
     "name": "stdout",
     "output_type": "stream",
     "text": [
      "Thankyou for visit!\n"
     ]
    }
   ],
   "source": [
    "while True:\n",
    "    print(\"\\nMenu:\")\n",
    "    print(\"1. Generate Pattern\")\n",
    "    print(\"2. Number Analyzer\")\n",
    "    print(\"3. Exit\")\n",
    "\n",
    "    choice = input(\"Enter choice: \")\n",
    "\n",
    "    if choice == \"1\":\n",
    "        rows = int(input(\"Enter number of rows: \"))\n",
    "        \n",
    "        for i in range(1, rows + 1):\n",
    "            for j in range(i):\n",
    "                print(\"*\", end=\" \")\n",
    "            print()\n",
    "    elif choice == \"2\":\n",
    "        start = int(input(\"Enter start: \"))\n",
    "        end = int(input(\"Enter end: \"))\n",
    "        total = 0\n",
    "        for num in range(start, end + 1):\n",
    "            if num == 13:   \n",
    "                continue\n",
    "            if num > 50:   \n",
    "                break\n",
    "            if num % 2 == 0:\n",
    "                print(num, \"is Even\")\n",
    "            else:\n",
    "                print(num, \"is Odd\")\n",
    "            total += num\n",
    "        print(\"Sum is:\", total)\n",
    "    elif choice == \"3\":\n",
    "        print(\"Thankyou for visit!\")\n",
    "        break\n",
    "    else:\n",
    "        pass "
   ]
  },
  {
   "cell_type": "code",
   "execution_count": null,
   "id": "1a3c201f-65de-4b8f-ad0f-9289871abc71",
   "metadata": {},
   "outputs": [],
   "source": []
  }
 ],
 "metadata": {
  "kernelspec": {
   "display_name": "Python 3 (ipykernel)",
   "language": "python",
   "name": "python3"
  },
  "language_info": {
   "codemirror_mode": {
    "name": "ipython",
    "version": 3
   },
   "file_extension": ".py",
   "mimetype": "text/x-python",
   "name": "python",
   "nbconvert_exporter": "python",
   "pygments_lexer": "ipython3",
   "version": "3.13.7"
  }
 },
 "nbformat": 4,
 "nbformat_minor": 5
}
