{
 "cells": [
  {
   "cell_type": "code",
   "execution_count": 9,
   "id": "a1a2aa2b-f749-410e-ae42-e0093e4e9e23",
   "metadata": {},
   "outputs": [
    {
     "name": "stdin",
     "output_type": "stream",
     "text": [
      "Enter something:  25\n"
     ]
    },
    {
     "name": "stdout",
     "output_type": "stream",
     "text": [
      "25 <class 'int'>\n",
      "25.0 <class 'float'>\n",
      "25 <class 'str'>\n",
      "True <class 'bool'>\n"
     ]
    }
   ],
   "source": [
    "\n",
    "value = input(\"Enter something: \")\n",
    "int_val = int(value)\n",
    "float_val = float(value)\n",
    "str_val = str(value)\n",
    "bool_val = bool(value)\n",
    "print(int_val,type(int_val))\n",
    "print(float_val,type(float_val))\n",
    "print(str_val,type(str_val))\n",
    "print(bool_val,type(bool_val))"
   ]
  },
  {
   "cell_type": "code",
   "execution_count": null,
   "id": "705a582b-bb13-4686-8560-c2f841bc11c8",
   "metadata": {},
   "outputs": [],
   "source": []
  },
  {
   "cell_type": "code",
   "execution_count": null,
   "id": "b163e5c8-36d0-4e12-83b9-638256ad034e",
   "metadata": {},
   "outputs": [],
   "source": [
    "#code 2\n",
    "\n"
   ]
  },
  {
   "cell_type": "code",
   "execution_count": 11,
   "id": "5185e81b-3517-42dc-8e9f-6b47ef14a1a6",
   "metadata": {},
   "outputs": [
    {
     "name": "stdin",
     "output_type": "stream",
     "text": [
      "Enter a number:  12.9\n"
     ]
    },
    {
     "name": "stdout",
     "output_type": "stream",
     "text": [
      "Float: 12.9\n",
      "Int: 12 → int() removes decimal part, not round\n"
     ]
    }
   ],
   "source": [
    "n = float(input(\"Enter a number: \"))\n",
    "print(\"Float:\", n)\n",
    "print(\"Int:\", int(n), \"→ int() removes decimal part, not round\")"
   ]
  },
  {
   "cell_type": "code",
   "execution_count": null,
   "id": "2e77eab7-b350-4fee-acac-d89316decfc6",
   "metadata": {},
   "outputs": [],
   "source": [
    "#code 3"
   ]
  },
  {
   "cell_type": "code",
   "execution_count": 1,
   "id": "4cb6f17b-1102-4b49-8820-2ea9d65093c6",
   "metadata": {},
   "outputs": [
    {
     "name": "stdin",
     "output_type": "stream",
     "text": [
      "Enter True or False:  5\n"
     ]
    },
    {
     "name": "stdout",
     "output_type": "stream",
     "text": [
      "Boolean value: False\n",
      "As integer: 0\n",
      "As string: False\n"
     ]
    }
   ],
   "source": [
    "\n",
    "b = input(\"Enter True or False: \")\n",
    "\n",
    "\n",
    "b = b == \"True\"\n",
    "\n",
    "\n",
    "as_int = int(b)\n",
    "as_str = str(b)\n",
    "\n",
    "\n",
    "print(\"Boolean value:\", b)\n",
    "print(\"As integer:\", as_int)\n",
    "print(\"As string:\", as_str)\n"
   ]
  },
  {
   "cell_type": "code",
   "execution_count": null,
   "id": "34b4c9d9-fca5-4b76-a3b5-fa30245576e1",
   "metadata": {},
   "outputs": [],
   "source": [
    "#code 4"
   ]
  },
  {
   "cell_type": "code",
   "execution_count": 2,
   "id": "dd409ba5-4284-454e-80b8-9293103b528c",
   "metadata": {},
   "outputs": [
    {
     "name": "stdout",
     "output_type": "stream",
     "text": [
      "Value: 10 | Type: <class 'int'> | Memory Address: 140725334291656\n",
      "Value: 3.14 | Type: <class 'float'> | Memory Address: 2380581590320\n",
      "Value: Hello | Type: <class 'str'> | Memory Address: 2380620160320\n",
      "Value: True | Type: <class 'bool'> | Memory Address: 140725333379552\n",
      "Value: [1, 2, 3] | Type: <class 'list'> | Memory Address: 2380581939648\n",
      "Value: (4, 5, 6) | Type: <class 'tuple'> | Memory Address: 2380581912640\n",
      "Value: {'name': 'Om', 'age': 20} | Type: <class 'dict'> | Memory Address: 2380581909696\n"
     ]
    }
   ],
   "source": [
    "# Declare variables of each datatype\n",
    "i = 10                          \n",
    "f = 3.14                        \n",
    "s = \"Hello\"                     \n",
    "b = True                         \n",
    "l = [1, 2, 3]                    \n",
    "t = (4, 5, 6)                   \n",
    "d = {\"name\": \"Om\", \"age\": 20}\n",
    "\n",
    "\n",
    "for var in [i, f, s, b, l, t, d]:\n",
    "    print(\"Value:\", var, \"| Type:\", type(var), \"| Memory Address:\", id(var))\n",
    "    \n"
   ]
  },
  {
   "cell_type": "code",
   "execution_count": 3,
   "id": "36a918d5-e0f8-44ae-8404-4dac8208a9f5",
   "metadata": {},
   "outputs": [],
   "source": [
    "#code 5"
   ]
  },
  {
   "cell_type": "code",
   "execution_count": 7,
   "id": "56553f86-29d2-4075-b6ea-fcee4b3ad59b",
   "metadata": {},
   "outputs": [
    {
     "name": "stdout",
     "output_type": "stream",
     "text": [
      "140725334291656 140725334291656\n",
      "140725334292616 140725334291656\n"
     ]
    }
   ],
   "source": [
    "a = b = 10\n",
    "print(id(a), id(b))  \n",
    "a = 40\n",
    "print(id(a), id(b))"
   ]
  },
  {
   "cell_type": "code",
   "execution_count": null,
   "id": "3c9c181d-aaf6-4bbe-9249-c6014a67e19f",
   "metadata": {},
   "outputs": [],
   "source": []
  }
 ],
 "metadata": {
  "kernelspec": {
   "display_name": "Python [conda env:base] *",
   "language": "python",
   "name": "conda-base-py"
  },
  "language_info": {
   "codemirror_mode": {
    "name": "ipython",
    "version": 3
   },
   "file_extension": ".py",
   "mimetype": "text/x-python",
   "name": "python",
   "nbconvert_exporter": "python",
   "pygments_lexer": "ipython3",
   "version": "3.13.5"
  }
 },
 "nbformat": 4,
 "nbformat_minor": 5
}
